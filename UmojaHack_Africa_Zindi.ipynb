{
  "nbformat": 4,
  "nbformat_minor": 0,
  "metadata": {
    "colab": {
      "name": "UmojaHack Africa Zindi.ipynb",
      "provenance": [],
      "collapsed_sections": [],
      "mount_file_id": "1-mJIHwfqc4ncJDlZy1tVmFribW14UJS5",
      "authorship_tag": "ABX9TyNz+bXka6x1foL8574Y3xL7",
      "include_colab_link": true
    },
    "kernelspec": {
      "display_name": "Python 3",
      "name": "python3"
    },
    "language_info": {
      "name": "python"
    }
  },
  "cells": [
    {
      "cell_type": "markdown",
      "metadata": {
        "id": "view-in-github",
        "colab_type": "text"
      },
      "source": [
        "<a href=\"https://colab.research.google.com/github/ayobamiakomolafe/UmojaHack-Africa-2021-Zindi/blob/main/UmojaHack_Africa_Zindi.ipynb\" target=\"_parent\"><img src=\"https://colab.research.google.com/assets/colab-badge.svg\" alt=\"Open In Colab\"/></a>"
      ]
    },
    {
      "cell_type": "markdown",
      "metadata": {
        "id": "0b58blOrKy-N"
      },
      "source": [
        "# **Import Libraries and Load Dataset**"
      ]
    },
    {
      "cell_type": "code",
      "metadata": {
        "id": "3M6YzaOo-L1n"
      },
      "source": [
        "df_test='/content/drive/MyDrive/Test.csv'\n",
        "df_train='/content/drive/MyDrive/Train.csv'"
      ],
      "execution_count": null,
      "outputs": []
    },
    {
      "cell_type": "code",
      "metadata": {
        "id": "rxCLdJ73-pHE"
      },
      "source": [
        "import pandas as pd\n",
        "import numpy as np"
      ],
      "execution_count": null,
      "outputs": []
    },
    {
      "cell_type": "code",
      "metadata": {
        "id": "GgqgRyQ1-pEM"
      },
      "source": [
        "df_test=pd.read_csv(df_test)\n",
        "df_train=pd.read_csv(df_train)"
      ],
      "execution_count": null,
      "outputs": []
    },
    {
      "cell_type": "code",
      "metadata": {
        "id": "xKXCOzFu-pBj"
      },
      "source": [
        "'concat train and test dataset'\n",
        "df=pd.concat([df_train,df_test])"
      ],
      "execution_count": null,
      "outputs": []
    },
    {
      "cell_type": "markdown",
      "metadata": {
        "id": "wjSAoFSuLF_v"
      },
      "source": [
        "# **Data Pre-processing**"
      ]
    },
    {
      "cell_type": "code",
      "metadata": {
        "id": "V7rdumvV-o2w"
      },
      "source": [
        "\"Label Encode categorical variable country\"\n",
        "country=df['country'].unique()\n",
        "num=range(df['country'].nunique())\n",
        "country_dict={}\n",
        "for a,b in zip(country, num):\n",
        "    df.replace(a,b, inplace=True)\n",
        "    country_dict[a]=b\n",
        "\n"
      ],
      "execution_count": null,
      "outputs": []
    },
    {
      "cell_type": "code",
      "metadata": {
        "id": "pTJiCp6i-oyn"
      },
      "source": [
        "\"Label Encode categorical variable region\"\n",
        "region=df['region'].unique()\n",
        "num=range(df['region'].nunique())\n",
        "region_dict={}\n",
        "for a,b in zip(region, num):\n",
        "    df.replace(a,b, inplace=True)\n",
        "    region_dict[a]=b"
      ],
      "execution_count": null,
      "outputs": []
    },
    {
      "cell_type": "code",
      "metadata": {
        "id": "g_7PcGxxPOLq"
      },
      "source": [
        "'column Q7 has about 80% missing values, hence dropped'\n",
        "df.drop('Q7', inplace=True, axis=1)"
      ],
      "execution_count": null,
      "outputs": []
    },
    {
      "cell_type": "code",
      "metadata": {
        "id": "5S9mnv6yqJO7"
      },
      "source": [
        "'Split train and test Dataset'\n",
        "df_train=df.iloc[:104867]\n",
        "df_test=df.iloc[104867:]"
      ],
      "execution_count": null,
      "outputs": []
    },
    {
      "cell_type": "code",
      "metadata": {
        "id": "Pq6ZhDRr-ogt"
      },
      "source": [
        "df_X=df_train.drop(['target', 'ID'], axis=1)\n",
        "df_Y=df_train[['target']]"
      ],
      "execution_count": null,
      "outputs": []
    },
    {
      "cell_type": "code",
      "metadata": {
        "id": "oErKkTIjXln5"
      },
      "source": [
        "'Fill missing values with mean'\n",
        "for i in ['region','age', 'Q2','Q3','Q4','Q5','Q8','Q9','Q19', 'Q20','Q23','Q26','Q27','Q28', 'owns_mobile']:\n",
        "      df_X.replace(np.nan, df_X[i].mean(),inplace=True)\n",
        "      df_test.replace(np.nan, df_test[i].mean(),inplace=True)"
      ],
      "execution_count": null,
      "outputs": []
    },
    {
      "cell_type": "markdown",
      "metadata": {
        "id": "2w4RUg2PMxTD"
      },
      "source": [
        "# **Modelling Preparation**"
      ]
    },
    {
      "cell_type": "code",
      "metadata": {
        "id": "DYE51gZh-oo1"
      },
      "source": [
        "!pip install lightgbm\n",
        "!pip install catboost\n",
        "\n",
        "\n",
        "\n",
        "from sklearn.model_selection import train_test_split\n",
        "from catboost import CatBoostClassifier"
      ],
      "execution_count": null,
      "outputs": []
    },
    {
      "cell_type": "code",
      "metadata": {
        "id": "7-g2pcsdKqtf"
      },
      "source": [
        "from sklearn import metrics\n",
        "catboost=CatBoostClassifier()\n",
        "lightgbm=LGBMClassifier()"
      ],
      "execution_count": null,
      "outputs": []
    },
    {
      "cell_type": "code",
      "metadata": {
        "id": "ISC5RcrPTUin"
      },
      "source": [
        "from sklearn.ensemble import VotingClassifier\n",
        "vc=VotingClassifier(estimators=[('lg',lightgbm), ('cat', catboost)],\n",
        "voting='soft', weights=[0.1, 0.35] )"
      ],
      "execution_count": null,
      "outputs": []
    },
    {
      "cell_type": "markdown",
      "metadata": {
        "id": "RKLbHcgBqqDh"
      },
      "source": [
        "## **Modelling and Prediction**"
      ]
    },
    {
      "cell_type": "code",
      "metadata": {
        "id": "q4HAwMG7EPkj"
      },
      "source": [
        "df_ID=df_test[['ID']]"
      ],
      "execution_count": null,
      "outputs": []
    },
    {
      "cell_type": "code",
      "metadata": {
        "id": "Q0hCrvusFY_r"
      },
      "source": [
        "df_test.drop(['ID','target'], axis=1, inplace=True)"
      ],
      "execution_count": null,
      "outputs": []
    },
    {
      "cell_type": "code",
      "metadata": {
        "id": "mlnql2u0sfcv"
      },
      "source": [
        "'stratified kfolding with voting classifier'\n",
        "from sklearn.model_selection import StratifiedKFold\n",
        "predictions=list()\n",
        "kf=StratifiedKFold(n_splits=25)\n",
        "for Train, Test in kf.split(df_X,df_Y):\n",
        "    x_train,x_test,y_train,y_test=df_X.iloc[Train], df_X.iloc[Test], df_Y.iloc[Train], df_Y.iloc[Test]\n",
        "    vc.fit(x_train, y_train)\n",
        "    prediction=vc.predict_proba(df_test)[:,1]\n",
        "    predictions.append(prediction)"
      ],
      "execution_count": null,
      "outputs": []
    },
    {
      "cell_type": "code",
      "metadata": {
        "id": "LNrR1-xIsfWN"
      },
      "source": [
        "sub=np.mean(predictions, axis=0)"
      ],
      "execution_count": null,
      "outputs": []
    },
    {
      "cell_type": "code",
      "metadata": {
        "id": "4kb_x-cZtkU9"
      },
      "source": [
        "pred=pd.DataFrame(sub)"
      ],
      "execution_count": null,
      "outputs": []
    },
    {
      "cell_type": "code",
      "metadata": {
        "id": "KN518Y1it4UM"
      },
      "source": [
        "dfs=pd.concat([df_ID, pred], axis=1)"
      ],
      "execution_count": null,
      "outputs": []
    },
    {
      "cell_type": "code",
      "metadata": {
        "id": "8ctWiuXvuGfB"
      },
      "source": [
        "from google.colab import files\n",
        "dfs.to_csv('./submissionfile16.csv', sep = ',', index = False)"
      ],
      "execution_count": null,
      "outputs": []
    },
    {
      "cell_type": "code",
      "metadata": {
        "colab": {
          "base_uri": "https://localhost:8080/",
          "height": 17
        },
        "id": "k8Y-QMMBuzD1",
        "outputId": "ac268b22-840e-4c95-b362-6334ed6be9ee"
      },
      "source": [
        "files.download('./submissionfile16.csv')"
      ],
      "execution_count": null,
      "outputs": [
        {
          "output_type": "display_data",
          "data": {
            "application/javascript": [
              "\n",
              "    async function download(id, filename, size) {\n",
              "      if (!google.colab.kernel.accessAllowed) {\n",
              "        return;\n",
              "      }\n",
              "      const div = document.createElement('div');\n",
              "      const label = document.createElement('label');\n",
              "      label.textContent = `Downloading \"${filename}\": `;\n",
              "      div.appendChild(label);\n",
              "      const progress = document.createElement('progress');\n",
              "      progress.max = size;\n",
              "      div.appendChild(progress);\n",
              "      document.body.appendChild(div);\n",
              "\n",
              "      const buffers = [];\n",
              "      let downloaded = 0;\n",
              "\n",
              "      const channel = await google.colab.kernel.comms.open(id);\n",
              "      // Send a message to notify the kernel that we're ready.\n",
              "      channel.send({})\n",
              "\n",
              "      for await (const message of channel.messages) {\n",
              "        // Send a message to notify the kernel that we're ready.\n",
              "        channel.send({})\n",
              "        if (message.buffers) {\n",
              "          for (const buffer of message.buffers) {\n",
              "            buffers.push(buffer);\n",
              "            downloaded += buffer.byteLength;\n",
              "            progress.value = downloaded;\n",
              "          }\n",
              "        }\n",
              "      }\n",
              "      const blob = new Blob(buffers, {type: 'application/binary'});\n",
              "      const a = document.createElement('a');\n",
              "      a.href = window.URL.createObjectURL(blob);\n",
              "      a.download = filename;\n",
              "      div.appendChild(a);\n",
              "      a.click();\n",
              "      div.remove();\n",
              "    }\n",
              "  "
            ],
            "text/plain": [
              "<IPython.core.display.Javascript object>"
            ]
          },
          "metadata": {
            "tags": []
          }
        },
        {
          "output_type": "display_data",
          "data": {
            "application/javascript": [
              "download(\"download_e6527a05-6c7f-48f4-93d2-5080ac07acde\", \"submissionfile16.csv\", 1488461)"
            ],
            "text/plain": [
              "<IPython.core.display.Javascript object>"
            ]
          },
          "metadata": {
            "tags": []
          }
        }
      ]
    },
    {
      "cell_type": "markdown",
      "metadata": {
        "id": "39jb9ddCZSpe"
      },
      "source": [
        "# The above modelling method gives an accuracy of 80% on the test set and 46th position of 463 participants on the Zindi LB."
      ]
    }
  ]
}